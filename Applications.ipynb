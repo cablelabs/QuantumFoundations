{
 "cells": [
  {
   "cell_type": "code",
   "execution_count": 42,
   "id": "3ee5fb5e-495c-4ca1-8dac-3c01ca730262",
   "metadata": {},
   "outputs": [],
   "source": [
    "import numpy as np\n",
    "from IPython.display import Latex\n",
    "\n",
    "from qiskit import QuantumCircuit, Aer, transpile\n",
    "from qiskit.visualization import plot_histogram\n",
    "from qiskit.quantum_info import Statevector, Operator"
   ]
  },
  {
   "cell_type": "markdown",
   "id": "1b2f949d-6db9-4803-879b-171f4f93e04d",
   "metadata": {},
   "source": [
    "# Deutsch Problem\n",
    "\n",
    "The Deutsch Problem is a simple \"toy\" example of how a problem that takes exponential time in classical computing takes only polynomial time when solved (in a fundamentally different way) with quantum computing. In this notebook, we'll look at the Deutsch problem at a high level, as well as the generalization to the Deutsch-Jozsa problem.\n",
    "\n",
    "## Problem Description\n",
    "\n",
    "Take a binary map function $f: x \\in \\{0,1\\} \\rightarrow f(x) = y \\in \\{0,1\\}$. Any function $f$ can be **constant** or **balanced**, defined as:\n",
    "\n",
    "* Balanced: $f(x)$ yields the same result for all inputs; $\\forall\\ x \\in \\{0, 1\\},\\ \\ f(x) = y$\n",
    "  * For the simple 1-bit input, this corresponds to 2 possible definitions of $f$:\n",
    "    * $f(x) = 0$\n",
    "    * $f(x) = 1$\n",
    "* Constant: $f(x)$ yields 0 for half of inputs, and 1 for the other half\n",
    "  * For the simple 1-bit input, this corresponds to 2 possible definitions of $f$:\n",
    "    * $f(x) = x$\n",
    "    * $f(x) = \\bar{x} = x \\oplus 1$, where $\\oplus$ is XOR/addition modulo 2 (\"flip the bit\")\n",
    "    \n",
    "In the Deutsch problem, we aim to find out whether a given function $f$ is constant or balanced.\n",
    "\n",
    "## Classical Solution\n",
    "\n",
    "How do we solve the Deutsch problem with classical computers? We must evaluate the function $f$ for both possible inputs, as we can't tell if $f$ is constant or balanced without knowing what both outputs are. For example, given a function $f$, first we evaluate $f(0)$ = 1. We can't tell if the function is constant or balanced, but we can after evaluating $f(1)$.\n",
    "\n",
    "Let's define the functions above in Python and choose one to evaluate at random. Can you tell whether the function is constant or balanced after evaluating only $f(0)$?"
   ]
  },
  {
   "cell_type": "code",
   "execution_count": 43,
   "id": "9071983a-844e-452d-b19f-a1acecfcbec4",
   "metadata": {},
   "outputs": [],
   "source": [
    "f1 = lambda x: 0\n",
    "f2 = lambda x: 1\n",
    "f3 = lambda x: x\n",
    "f4 = lambda x: (x + 1) % 2\n",
    "\n",
    "funcs = [f1, f2, f3, f4]"
   ]
  },
  {
   "cell_type": "code",
   "execution_count": 44,
   "id": "97876be8-73e9-4a06-b8c3-4c939ff2aeb1",
   "metadata": {},
   "outputs": [
    {
     "data": {
      "text/plain": [
       "1"
      ]
     },
     "execution_count": 44,
     "metadata": {},
     "output_type": "execute_result"
    }
   ],
   "source": [
    "test_func = funcs[np.random.randint(4)]\n",
    "test_func(0)"
   ]
  },
  {
   "cell_type": "code",
   "execution_count": 45,
   "id": "0a5868ab-4dd2-4cbf-9fbc-5180010ad703",
   "metadata": {},
   "outputs": [
    {
     "data": {
      "text/plain": [
       "1"
      ]
     },
     "execution_count": 45,
     "metadata": {},
     "output_type": "execute_result"
    }
   ],
   "source": [
    "test_func(1)"
   ]
  },
  {
   "cell_type": "markdown",
   "id": "d2fb7e87-a88a-4350-b814-a646c95d98cb",
   "metadata": {},
   "source": [
    "## Quantum Solution\n",
    "\n",
    "We've now demonstrated that the classical solution to the Deutsch problem requires 2 executions. However, with quantum computing, we make this determination by evaluating the function **only one time** by leveraging superposition to effectively, garner some global knowledge about the function as if it were applied to all inputs simultaneously. Let's explore how this is done.\n",
    "\n",
    "### Oracle Functions\n",
    "\n",
    "Firstly, we must set up our problem in a way that is compatible with quantum computers. Specifically, we need to be able to run our function $f$ such that it:\n",
    "\n",
    "* Operates on Qubits\n",
    "* Is reversible\n",
    "\n",
    "To do this, we need to use a 2-qubit system (of qubits $x$ and $y$) and a 2 qubit matrix to represent the function $f$. We need the additional (ancilla) qubit in order to ensure that the function is reversible when applied to the quantum circuit. We refer to this matrix representation of the function we are evaluating as the **oracle function** $U_f$. In order to be reversible, this 2 qubit system needs to operate as follows:\n",
    "\n",
    "$$\n",
    "U_f: |x\\rangle |y\\rangle \\rightarrow |x\\rangle |y \\oplus f(x)\\rangle\n",
    "$$\n",
    "\n",
    "### Circuit Setup\n",
    "\n",
    "The quantum circuit used to solve the Deutsch problem is pictured below:"
   ]
  },
  {
   "cell_type": "code",
   "execution_count": 46,
   "id": "f7839456-eaff-4532-82c9-6882e933d15e",
   "metadata": {},
   "outputs": [
    {
     "data": {
      "image/png": "[encoded data removed]",
      "text/plain": [
       "<Figure size 807.192x426.417 with 1 Axes>"
      ]
     },
     "execution_count": 46,
     "metadata": {},
     "output_type": "execute_result"
    }
   ],
   "source": [
    "circuit = QuantumCircuit(2, 1)\n",
    "circuit.x(1)\n",
    "circuit.h((0,1))\n",
    "circuit.unitary(np.identity(4), (0,1), '$U_f$') # 4x4 identity matrix as example\n",
    "circuit.h(0)\n",
    "circuit.measure(0, 0)\n",
    "circuit.draw('mpl', justify='right', scale=1.5)"
   ]
  },
  {
   "cell_type": "markdown",
   "id": "9b50b66c-efdf-4cd5-9e05-18644888305e",
   "metadata": {},
   "source": [
    "This circuit consists of the following (in order):\n",
    "\n",
    "* Input qubit ($|x\\rangle$, $q_0$) initialized to $|0\\rangle$\n",
    "* Ancilla qubit ($|y\\rangle$, $q_1$) initialized to $|1\\rangle$ (IE, with $X$ gate)\n",
    "* Hadamard gates applied to each qubit\n",
    "* 2-qubit oracle/unitary function $U_f$\n",
    "* Final Hadamard gate applied to $q_0$\n",
    "* Measurement of $q_0$\n",
    "\n",
    "Without going into many details (and mathderivation), when we execute this circuit, we can discover whether the function is constant or balanced as follows:\n",
    "\n",
    "* If $q_0$ is measured to be 0, then the function is guaranteed to be constant.\n",
    "* If $q_0$ is measured to be 1, then the function is guaranteed to be balanced.\n",
    "\n",
    "Let's look at some examples of this in action."
   ]
  },
  {
   "cell_type": "markdown",
   "id": "12c2d67b-7af0-4071-912f-00e7edd15e18",
   "metadata": {},
   "source": [
    "## Example\n",
    "\n",
    "For this example, we'll use $f(x) = x$ as our \"balanced\" function. The logic table of the function, is as follows:\n",
    "\n",
    "| $$x$$ | $$f(x)$$ |\n",
    "|:-:|:----:|\n",
    "| 0 | 0 |\n",
    "| 1 | 1 |\n",
    "\n",
    "Let's extend this table to include the second qubit and the result of the orcale function $U_f$ when evaluating this function:\n",
    "\n",
    "| $$x$$ | $$y$$ | $$f(x)$$ | $$y \\oplus f(x)$$ |\n",
    "|:-----:|:-----:|:--------:|:-----------------:|\n",
    "|   0   |   0   |    0     |         0         |\n",
    "|   0   |   1   |    0     |         1         |\n",
    "|   1   |   0   |    1     |         1         |\n",
    "|   1   |   1   |    1     |         0         |\n",
    "\n",
    "Conveniently, we can represent this function with the CNOT gate, as it implements this exact logic table. So, for this function, $U_f = CNOT$ We can manually compute the different states of a 2-qubit system when operated on by the CNOT gate below:"
   ]
  },
  {
   "cell_type": "code",
   "execution_count": 51,
   "id": "de0b22b6-25a8-492a-9786-c2e7af02f362",
   "metadata": {},
   "outputs": [
    {
     "data": {
      "text/plain": [
       "array([[1, 0, 0, 0],\n",
       "       [0, 1, 0, 0],\n",
       "       [0, 0, 0, 1],\n",
       "       [0, 0, 1, 0]])"
      ]
     },
     "execution_count": 51,
     "metadata": {},
     "output_type": "execute_result"
    }
   ],
   "source": [
    "# Gate definitions\n",
    "cnot = np.array([[1, 0, 0, 0], [0, 1, 0, 0], [0, 0, 0, 1], [0, 0, 1, 0]])\n",
    "cnot"
   ]
  },
  {
   "cell_type": "code",
   "execution_count": 52,
   "id": "30c96659-247d-467f-8108-f22540d73342",
   "metadata": {},
   "outputs": [
    {
     "data": {
      "text/latex": [
       "$CNOT \\otimes  |00\\rangle =  |00\\rangle$"
      ],
      "text/plain": [
       "<IPython.core.display.Latex object>"
      ]
     },
     "metadata": {},
     "output_type": "display_data"
    },
    {
     "data": {
      "text/latex": [
       "$CNOT \\otimes  |01\\rangle =  |01\\rangle$"
      ],
      "text/plain": [
       "<IPython.core.display.Latex object>"
      ]
     },
     "metadata": {},
     "output_type": "display_data"
    },
    {
     "data": {
      "text/latex": [
       "$CNOT \\otimes  |10\\rangle =  |11\\rangle$"
      ],
      "text/plain": [
       "<IPython.core.display.Latex object>"
      ]
     },
     "metadata": {},
     "output_type": "display_data"
    },
    {
     "data": {
      "text/latex": [
       "$CNOT \\otimes  |11\\rangle =  |10\\rangle$"
      ],
      "text/plain": [
       "<IPython.core.display.Latex object>"
      ]
     },
     "metadata": {},
     "output_type": "display_data"
    }
   ],
   "source": [
    "# Showing how CNOT gate changes basis states for a 2-qubit system\n",
    "result_table = []\n",
    "for index in range(4):\n",
    "    instate = np.array([[1 if j == index else 0] for j in range(4)])\n",
    "    result = cnot @ instate\n",
    "    result_table.append((instate, result))\n",
    "\n",
    "for result_tuple in result_table:\n",
    "    instate_tex = Statevector(result_tuple[0]).draw('latex_source')\n",
    "    result_tex = Statevector(result_tuple[1]).draw('latex_source')\n",
    "    display(Latex('$CNOT \\otimes {} = {}$'.format(instate_tex, result_tex)))"
   ]
  },
  {
   "cell_type": "markdown",
   "id": "55db4397-dd3d-4d31-a861-6c250732745e",
   "metadata": {},
   "source": [
    "From the output above, we can see that the CNOT gate, when applied to different 2-qubit state vectors, matches our logic table above.\n",
    "\n",
    "Let's actually evaluate whether or not this function is balanced using the circuit we defined before. Here's our updated circuit using the CNOT gate as $U_f$:"
   ]
  },
  {
   "cell_type": "code",
   "execution_count": 83,
   "id": "51099071-439f-4458-8597-1d32b9c280a0",
   "metadata": {},
   "outputs": [
    {
     "data": {
      "image/png": "[encoded data removed]",
      "text/plain": [
       "<Figure size 807.192x426.417 with 1 Axes>"
      ]
     },
     "execution_count": 83,
     "metadata": {},
     "output_type": "execute_result"
    }
   ],
   "source": [
    "circuit = QuantumCircuit(2, 1)\n",
    "circuit.x(1)\n",
    "circuit.h((0, 1))\n",
    "circuit.cnot(0, 1)\n",
    "# circuit.unitary(np.identity(4, int), (0, 1), 'Identity')\n",
    "circuit.h(0)\n",
    "circuit.measure(0, 0)\n",
    "circuit.draw('mpl', justify='right', scale=1.5)"
   ]
  },
  {
   "cell_type": "code",
   "execution_count": 85,
   "id": "39550932-b500-4766-8283-c1374cb28407",
   "metadata": {},
   "outputs": [
    {
     "data": {
      "text/plain": [
       "Qubit(QuantumRegister(2, 'q'), 0)"
      ]
     },
     "execution_count": 85,
     "metadata": {},
     "output_type": "execute_result"
    }
   ],
   "source": [
    "circuit.qubits[0]"
   ]
  },
  {
   "cell_type": "markdown",
   "id": "54f2cf8f-d9fc-4e39-8444-fe470ff8ca4d",
   "metadata": {},
   "source": [
    "When we actually execute this circuit (1,024 times), we can observe the results:"
   ]
  },
  {
   "cell_type": "code",
   "execution_count": 86,
   "id": "271b10b4-d15f-48cb-981b-75d98d75c548",
   "metadata": {},
   "outputs": [
    {
     "data": {
      "image/png": "[encoded data removed]",
      "text/plain": [
       "<Figure size 700x500 with 1 Axes>"
      ]
     },
     "execution_count": 86,
     "metadata": {},
     "output_type": "execute_result"
    }
   ],
   "source": [
    "sim_backend = Aer.get_backend('qasm_simulator')\n",
    "\n",
    "job = sim_backend.run(transpile(circuit, sim_backend), shots=1024)\n",
    "result = job.result()\n",
    "\n",
    "counts = result.get_counts()\n",
    "\n",
    "plot_histogram(counts)"
   ]
  },
  {
   "cell_type": "markdown",
   "id": "42c373c4-c43c-407f-8e60-d56eb3b7e0d8",
   "metadata": {},
   "source": [
    "And we see that the result is 1, so we can conclude that our function $f(x) = x$ is indeed balanced, by only evaluating the circuit **a single time!**\n",
    "\n",
    "## Why Does this Work?"
   ]
  }
 ],
 "metadata": {
  "kernelspec": {
   "display_name": "Python 3 (ipykernel)",
   "language": "python",
   "name": "python3"
  },
  "language_info": {
   "codemirror_mode": {
    "name": "ipython",
    "version": 3
   },
   "file_extension": ".py",
   "mimetype": "text/x-python",
   "name": "python",
   "nbconvert_exporter": "python",
   "pygments_lexer": "ipython3",
   "version": "3.10.11"
  }
 },
 "nbformat": 4,
 "nbformat_minor": 5
}
