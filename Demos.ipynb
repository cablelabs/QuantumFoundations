{
 "cells": [
  {
   "cell_type": "markdown",
   "id": "a007dd57-1c18-44d8-845e-25d7819ff1df",
   "metadata": {},
   "source": [
    "# Quantum Demonstration Playground\n",
    "\n",
    "This notebook will be used for demonstrations of simple gate computations. Import statements and some basic stubs are provided."
   ]
  },
  {
   "cell_type": "code",
   "execution_count": null,
   "id": "3ee5fb5e-495c-4ca1-8dac-3c01ca730262",
   "metadata": {},
   "outputs": [],
   "source": [
    "import numpy as np\n",
    "import matplotlib as plt\n",
    "%matplotlib inline\n",
    "from IPython.display import Latex\n",
    "\n",
    "from qiskit import QuantumCircuit, ClassicalRegister, QuantumRegister, Aer, transpile\n",
    "from qiskit.visualization import plot_histogram\n",
    "from qiskit.quantum_info import Statevector, Operator"
   ]
  },
  {
   "cell_type": "markdown",
   "id": "8c53ab93-9936-4450-8b82-c23b093d85c2",
   "metadata": {},
   "source": [
    "# Demonstrations\n",
    "\n",
    "First we create a simple state vector that represents a single qubit, and initialize it to the basis state `|0>`"
   ]
  },
  {
   "cell_type": "code",
   "execution_count": null,
   "id": "741d8790-29de-4dbf-9b9e-350455e04e37",
   "metadata": {},
   "outputs": [],
   "source": [
    "q = np.array([[1], [0]])\n",
    "q"
   ]
  },
  {
   "cell_type": "markdown",
   "id": "b18b850c-a8d2-4cb9-a199-153d61dec0d8",
   "metadata": {},
   "source": [
    "## Gate Operations\n",
    "\n",
    "### Simple Gates\n",
    "\n",
    "Below, we define the following 1 qubit gates:\n",
    "\n",
    "* The identity gate $I = \\begin{pmatrix}1&0\\\\0&1\\end{pmatrix}$\n",
    "* The Pauli-X gate (X/NOT) $X = \\begin{pmatrix}0&1\\\\1&0\\end{pmatrix}$\n",
    "* The Hadamard gate $H = \\frac{1}{\\sqrt{2}}\\begin{pmatrix}1&1\\\\1&-1\\end{pmatrix}$\n",
    "\n",
    "As well as the 2-qubit CNOT gate:\n",
    "$$\n",
    "CNOT =\n",
    "\\begin{pmatrix}\n",
    "    1 & 0 & 0 & 0\\\\\n",
    "    0 & 1 & 0 & 0\\\\\n",
    "    0 & 0 & 0 & 1\\\\\n",
    "    0 & 0 & 1 & 0\n",
    "\\end{pmatrix}\n",
    "$$"
   ]
  },
  {
   "cell_type": "code",
   "execution_count": null,
   "id": "3d223b0f-04c7-48de-9ab3-f7594b1585f4",
   "metadata": {},
   "outputs": [],
   "source": [
    "# Gate definitions\n",
    "i = np.array([[1, 0], [0, 1]])\n",
    "x = np.array([[0, 1], [1, 0]])\n",
    "h = (1 / np.sqrt(2)) * np.array([[1, 1], [1, -1]])\n",
    "cnot = np.array([[1, 0, 0, 0], [0, 1, 0, 0], [0, 0, 0, 1], [0, 0, 1, 0]])\n",
    "\n",
    "i, x, h, cnot"
   ]
  },
  {
   "cell_type": "markdown",
   "id": "628fa3b8-7309-47b4-bfae-ef6316d25935",
   "metadata": {},
   "source": [
    "We will also leverage `qiskit` to visualize simple circuits using these gates and their corresponding state vectors.\n",
    "\n",
    "First, our state vector in Dirac notation and visualized on the Bloch sphere, as well as our circuit (with a gate of choice):"
   ]
  },
  {
   "cell_type": "code",
   "execution_count": null,
   "id": "df3ba772-91cf-43d4-bcd0-906572b4c5b1",
   "metadata": {},
   "outputs": [],
   "source": [
    "state = Statevector(q)\n",
    "state.draw('latex')"
   ]
  },
  {
   "cell_type": "code",
   "execution_count": null,
   "id": "2d03c118-bfd9-4ddf-b0cd-17c718aa2be6",
   "metadata": {},
   "outputs": [],
   "source": [
    "state.draw('bloch')"
   ]
  },
  {
   "cell_type": "code",
   "execution_count": null,
   "id": "3112b388-4e71-453a-8941-2e350795e0e1",
   "metadata": {},
   "outputs": [],
   "source": [
    "circuit = QuantumCircuit(1)\n",
    "\n",
    "# circuit.i(0)\n",
    "# circuit.x(0)\n",
    "circuit.h(0)\n",
    "\n",
    "circuit.draw('mpl')"
   ]
  },
  {
   "cell_type": "markdown",
   "id": "1f89d098-e188-492b-b327-48da5c36af32",
   "metadata": {},
   "source": [
    "Now we \"evolve\" the state by running the circuit and look at the state (note that we are not \"measuring\" the state, but simply computing what the state is expected to be):"
   ]
  },
  {
   "cell_type": "code",
   "execution_count": null,
   "id": "2c303218-f662-4f7e-bd77-89f8da69c222",
   "metadata": {},
   "outputs": [],
   "source": [
    "state = state.evolve(circuit)\n",
    "state.draw('latex')"
   ]
  },
  {
   "cell_type": "code",
   "execution_count": null,
   "id": "e950d684-7b95-4c17-a297-93b63bac31ab",
   "metadata": {},
   "outputs": [],
   "source": [
    "state.draw('bloch')"
   ]
  },
  {
   "cell_type": "markdown",
   "id": "0c8d46ec-db69-46db-a203-25d3adbf488a",
   "metadata": {},
   "source": [
    "### Computing Hadamard Gate on Basis States\n",
    "\n",
    "Let's run through the example math manually of applying the Hadamard gate to the basis state `|0>`:\n",
    "\n",
    "$$\n",
    "\\begin{align}\n",
    "|\\psi\\rangle &= H\\begin{bmatrix}1\\\\0\\end{bmatrix}\\\\\n",
    "&= \\frac{1}{\\sqrt{2}}\n",
    "\\begin{pmatrix}\n",
    "    1 & 1\\\\\n",
    "    1 & -1\n",
    "\\end{pmatrix}\n",
    "\\begin{bmatrix}1\\\\0\\end{bmatrix}\\\\\n",
    "&=\n",
    "\\begin{bmatrix}\n",
    "    \\frac{1}{\\sqrt{2}}\\\\\n",
    "    \\frac{1}{\\sqrt{2}}\n",
    "\\end{bmatrix}\n",
    "\\end{align}\n",
    "$$"
   ]
  },
  {
   "cell_type": "code",
   "execution_count": null,
   "id": "422fdf3e-fc0f-49a8-af6c-5c0002bd5d94",
   "metadata": {},
   "outputs": [],
   "source": [
    "q"
   ]
  },
  {
   "cell_type": "code",
   "execution_count": null,
   "id": "a7a15c35-18fb-4a35-a263-f5694956a9ba",
   "metadata": {},
   "outputs": [],
   "source": [
    "(h @ q)"
   ]
  },
  {
   "cell_type": "markdown",
   "id": "3bd5d47b-a276-4c80-8d65-31d29d31d73a",
   "metadata": {},
   "source": [
    "We can determine that the probabiliy of measuring each basis state is 50% by raising the state vector to the power of 2:\n",
    "\n",
    "$$\n",
    "\\begin{align}\n",
    "P &=\n",
    "\\begin{bmatrix}\n",
    "    \\frac{1}{\\sqrt{2}}\\\\\n",
    "    \\frac{1}{\\sqrt{2}}\n",
    "\\end{bmatrix}^2\\\\\n",
    "&=\n",
    "\\begin{bmatrix}\n",
    "    \\frac{1}{2}\\\\\n",
    "    \\frac{1}{2}\n",
    "\\end{bmatrix}\n",
    "\\end{align}\n",
    "$$"
   ]
  },
  {
   "cell_type": "code",
   "execution_count": null,
   "id": "4367ff37-8820-40fa-80c8-ed5f325b41b6",
   "metadata": {},
   "outputs": [],
   "source": [
    "(h @ q) ** 2"
   ]
  },
  {
   "cell_type": "markdown",
   "id": "a8df1729-ec69-4884-8282-673b418722d5",
   "metadata": {},
   "source": [
    "This indicates that the qubit is in a superposition, where a measurement will result in `|0>` half of the time, and `|1>` the other half."
   ]
  },
  {
   "cell_type": "markdown",
   "id": "3a38a62f-d9d9-4b9b-a2e5-9d4e5a55c5b8",
   "metadata": {},
   "source": [
    "## Deutsch Problem\n",
    "\n",
    "The Deutsch Problem is a simple \"toy\" example of how a problem that takes exponential time in classical computing takes only polynomial time when solved (in a fundamentally different way) with quantum computing. For this example, we'll use $f(x) = x$ as our \"balanced\" function. For its unitary matrix representation $U_f$, we can represent this function with the CNOT gate, as it satisifies the property of $U_f: |x\\rangle|y\\rangle \\rightarrow |x\\rangle|y \\oplus f(x)\\rangle$\n",
    "\n",
    "The truth table for this function is as follows, including the relevant values for the ancilla qubit $y$:\n",
    "\n",
    "| x | y | f(x) | y xor f(x)      |\n",
    "|---|---|------|-----------------|\n",
    "| 0 | 0 |  0   | 0               |\n",
    "| 1 | 0 |  1   | 1               |\n",
    "| 0 | 1 |  0   | 1               |\n",
    "| 1 | 1 |  1   | 0               |\n",
    "\n",
    "\n",
    "\n",
    "Note that [Qiskit uses little endian](https://qiskit.org/documentation/stubs/qiskit.circuit.library.CXGate.html#qiskit.circuit.library.CXGate) for its qubit ordering, so we apply our CNOT matrix with $q_1$ as the control and $q_0$ as the target here."
   ]
  },
  {
   "cell_type": "code",
   "execution_count": null,
   "id": "79d35871-6ab1-49c4-baa0-b791dc492d28",
   "metadata": {},
   "outputs": [],
   "source": [
    "# Showing how CNOT gate changes basis states for a 2-qubit system\n",
    "result_table = []\n",
    "for index in range(4):\n",
    "    instate = np.array([[1 if j == index else 0] for j in range(4)])\n",
    "    result = cnot @ instate\n",
    "    result_table.append((instate, result))\n",
    "\n",
    "for result_tuple in result_table:\n",
    "    instate_tex = Statevector(result_tuple[0]).draw('latex_source')\n",
    "    result_tex = Statevector(result_tuple[1]).draw('latex_source')\n",
    "    display(Latex('$CNOT \\otimes {} = {}$'.format(instate_tex, result_tex)))"
   ]
  },
  {
   "cell_type": "code",
   "execution_count": null,
   "id": "e785988c-3048-44a4-b65f-27b8a0e484c6",
   "metadata": {},
   "outputs": [],
   "source": [
    "qr = QuantumRegister(2, 'q')\n",
    "cr = ClassicalRegister(1, 'c')\n",
    "circuit = QuantumCircuit(qr, cr)\n",
    "circuit.x(1)\n",
    "circuit.h(0)\n",
    "circuit.h(1)\n",
    "# circuit.cnot(0, 1)\n",
    "circuit.unitary(cnot, (1, 0), 'CNOT')\n",
    "# circuit.unitary(np.kron(i, i), (0, 1), 'Identity')\n",
    "circuit.h(0)\n",
    "circuit.measure(0, 0)\n",
    "circuit.draw('mpl')"
   ]
  },
  {
   "cell_type": "code",
   "execution_count": null,
   "id": "462b670b-13c0-4e1d-9446-1553e54a7ff3",
   "metadata": {},
   "outputs": [],
   "source": [
    "sim_backend = Aer.get_backend('qasm_simulator')\n",
    "\n",
    "job = sim_backend.run(transpile(circuit, sim_backend), shots=1024)\n",
    "result = job.result()\n",
    "\n",
    "counts = result.get_counts()\n",
    "\n",
    "plot_histogram(counts)"
   ]
  }
 ],
 "metadata": {
  "kernelspec": {
   "display_name": "Python 3 (ipykernel)",
   "language": "python",
   "name": "python3"
  },
  "language_info": {
   "codemirror_mode": {
    "name": "ipython",
    "version": 3
   },
   "file_extension": ".py",
   "mimetype": "text/x-python",
   "name": "python",
   "nbconvert_exporter": "python",
   "pygments_lexer": "ipython3",
   "version": "3.10.11"
  }
 },
 "nbformat": 4,
 "nbformat_minor": 5
}
