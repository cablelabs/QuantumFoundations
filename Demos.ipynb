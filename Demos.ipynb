{
 "cells": [
  {
   "cell_type": "markdown",
   "id": "a007dd57-1c18-44d8-845e-25d7819ff1df",
   "metadata": {},
   "source": [
    "# Quantum Demonstration Playground\n",
    "\n",
    "This notebook will be used for demonstrations of simple gate computations. Import statements and some basic stubs are provided."
   ]
  },
  {
   "cell_type": "code",
   "execution_count": null,
   "id": "3ee5fb5e-495c-4ca1-8dac-3c01ca730262",
   "metadata": {},
   "outputs": [],
   "source": [
    "import numpy as np\n",
    "\n",
    "from qiskit import QuantumCircuit\n",
    "from qiskit.quantum_info import Statevector"
   ]
  },
  {
   "cell_type": "code",
   "execution_count": null,
   "id": "741d8790-29de-4dbf-9b9e-350455e04e37",
   "metadata": {},
   "outputs": [],
   "source": [
    "q = np.array([[1], [0]])\n",
    "q"
   ]
  },
  {
   "cell_type": "code",
   "execution_count": null,
   "id": "3d223b0f-04c7-48de-9ab3-f7594b1585f4",
   "metadata": {},
   "outputs": [],
   "source": [
    "# Gate definitions\n",
    "i = np.array([[1, 0], [0, 1]])\n",
    "x = np.array([[0, 1], [1, 0]])\n",
    "h = (1 / np.sqrt(2)) * np.array([[1, 1], [1, -1]])\n",
    "i, x, h"
   ]
  },
  {
   "cell_type": "markdown",
   "id": "f9c77233-7678-4947-bd07-997edeb8d2e1",
   "metadata": {},
   "source": [
    "# Demonstrations"
   ]
  },
  {
   "cell_type": "code",
   "execution_count": null,
   "id": "3112b388-4e71-453a-8941-2e350795e0e1",
   "metadata": {},
   "outputs": [],
   "source": [
    "circuit = QuantumCircuit(1)\n",
    "\n",
    "circuit.i(0)\n",
    "# circuit.x(0)\n",
    "# circuit.h(0)\n",
    "\n",
    "circuit.draw('mpl')"
   ]
  },
  {
   "cell_type": "code",
   "execution_count": null,
   "id": "df3ba772-91cf-43d4-bcd0-906572b4c5b1",
   "metadata": {},
   "outputs": [],
   "source": [
    "state = Statevector(q)\n",
    "state.draw('latex')"
   ]
  },
  {
   "cell_type": "code",
   "execution_count": null,
   "id": "2c303218-f662-4f7e-bd77-89f8da69c222",
   "metadata": {},
   "outputs": [],
   "source": [
    "state = state.evolve(circuit)\n",
    "state.draw('latex')"
   ]
  },
  {
   "cell_type": "code",
   "execution_count": null,
   "id": "35ea4868-4bdd-4fe1-bc42-e491678686ee",
   "metadata": {},
   "outputs": [],
   "source": []
  }
 ],
 "metadata": {
  "kernelspec": {
   "display_name": "Python 3 (ipykernel)",
   "language": "python",
   "name": "python3"
  },
  "language_info": {
   "codemirror_mode": {
    "name": "ipython",
    "version": 3
   },
   "file_extension": ".py",
   "mimetype": "text/x-python",
   "name": "python",
   "nbconvert_exporter": "python",
   "pygments_lexer": "ipython3",
   "version": "3.10.11"
  }
 },
 "nbformat": 4,
 "nbformat_minor": 5
}
