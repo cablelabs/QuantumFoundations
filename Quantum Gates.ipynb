{
 "cells": [
  {
   "cell_type": "markdown",
   "id": "c060458d-f7be-4ac6-aa90-485d5771489b",
   "metadata": {},
   "source": [
    "# Matrix Computations of Quantum Gates\n",
    "\n",
    "*Andy Dolan*\n",
    "\n",
    "In this notebook, we'll run through an example of applying a quantum circuit to a 2-qubit system. We'll first calculate the resulting probability vector of the measured qubits by hand, and then leverage the qiskit library to demonstrate a simulated example. The circuit that we'll be demonstrating is illustrated in the following diagram:\n",
    "\n",
    "![](./images/Circuit.png)\n",
    "\n",
    "This circuit first applies a Hadamard gate $H$ to the first qubit (`q[0]`; $q_0$). A $CNOT$ gate is then applied, where the first qubit acts as the control, and the second qubit acts as the target.\n",
    "\n",
    "This circuit is a simple exmaple of creating an entangled pair; $q_0$ is first brought into a superposition via the $H$ gate, the $CNOT$ gate creates a Bell state, and the measurements of $q_0$ and $q_1$ are correlated, despite only $q_0$ being brought into a superposition state.\n",
    "\n",
    "In this notebook, we will compute the probability vector of the final measured state of the 2-qubit system.\n",
    "\n",
    "## Manual Computation\n",
    "\n",
    "To begin, we'll leverage matrices to compute the probability vector of this circuit."
   ]
  },
  {
   "cell_type": "code",
   "execution_count": 1,
   "id": "c3a56df3-8f09-4a90-b710-5dfd3ae3c0d2",
   "metadata": {},
   "outputs": [],
   "source": [
    "import numpy as np"
   ]
  },
  {
   "cell_type": "markdown",
   "id": "042c9103-65c8-4af4-a4c3-26c4230e620b",
   "metadata": {},
   "source": [
    "## Setup\n",
    "\n",
    "First we'll define:\n",
    "\n",
    "* Our qubits (a 2 qubit register, represented as probability vectors, each initialized to `|0>`)\n",
    "* A few gates ($H$, $CNOT$)"
   ]
  },
  {
   "cell_type": "code",
   "execution_count": 2,
   "id": "532e92d1-2aa4-41a8-9970-f4340c7c83ee",
   "metadata": {},
   "outputs": [
    {
     "data": {
      "text/plain": [
       "[array([[1],\n",
       "        [0]]),\n",
       " array([[1],\n",
       "        [0]])]"
      ]
     },
     "execution_count": 2,
     "metadata": {},
     "output_type": "execute_result"
    }
   ],
   "source": [
    "# \"Qubits\"\n",
    "q = [np.array([[1], [0]]) for i in range(2)]\n",
    "q"
   ]
  },
  {
   "cell_type": "code",
   "execution_count": 3,
   "id": "e56144f2-8e3f-45a6-954b-585dffed6b5c",
   "metadata": {},
   "outputs": [
    {
     "name": "stdout",
     "output_type": "stream",
     "text": [
      "CNOT:\n",
      "[[1 0 0 0]\n",
      " [0 1 0 0]\n",
      " [0 0 0 1]\n",
      " [0 0 1 0]]\n",
      "H:\n",
      "[[ 0.70710678  0.70710678]\n",
      " [ 0.70710678 -0.70710678]]\n",
      "I:\n",
      "[[1 0]\n",
      " [0 1]]\n"
     ]
    }
   ],
   "source": [
    "# Gates: CNOT, H, I\n",
    "cnot = np.array([[1,0,0,0],[0,1,0,0],[0,0,0,1],[0,0,1,0]])\n",
    "\n",
    "h = (1 / np.sqrt(2)) * np.array([[1, 1], [1, -1]])\n",
    "\n",
    "identity = np.array([[1, 0], [0, 1]])\n",
    "\n",
    "print('CNOT:\\n{}'.format(cnot))\n",
    "print('H:\\n{}'.format(h))\n",
    "print('I:\\n{}'.format(identity))"
   ]
  },
  {
   "cell_type": "markdown",
   "id": "24938c77-3ce6-49d6-a550-0cf6021b2065",
   "metadata": {},
   "source": [
    "Finally, we can represent the combined state of the 2-qubit \"system\" with the tensor product of the individual states:"
   ]
  },
  {
   "cell_type": "code",
   "execution_count": 4,
   "id": "9f22d988-5cb4-4865-ab02-ccc05b9fafbc",
   "metadata": {},
   "outputs": [
    {
     "data": {
      "text/plain": [
       "array([[1],\n",
       "       [0],\n",
       "       [0],\n",
       "       [0]])"
      ]
     },
     "execution_count": 4,
     "metadata": {},
     "output_type": "execute_result"
    }
   ],
   "source": [
    "combined_state_vector = np.kron(q[0], q[1])\n",
    "combined_state_vector"
   ]
  },
  {
   "cell_type": "markdown",
   "id": "f7841e72-dc60-4367-9fc0-15bc6e0eacfc",
   "metadata": {},
   "source": [
    "Which corresponds to the state `|00>`"
   ]
  },
  {
   "cell_type": "markdown",
   "id": "c344b28d-8b4b-4db1-a236-324e3b39817a",
   "metadata": {},
   "source": [
    "## Computing the Circuit's Unitary Matrix\n",
    "\n",
    "The Unitary matrix representation of our simple circuit is computed as follows:\n",
    "\n",
    "$$\n",
    "\\begin{align}\n",
    "U &= CNOT\\ (H \\otimes I)\\\\[1em]\n",
    "&=\n",
    "\\begin{pmatrix}\n",
    "    1 & 0 & 0 & 0\\\\\n",
    "    0 & 1 & 0 & 0\\\\\n",
    "    0 & 0 & 0 & 1\\\\\n",
    "    0 & 0 & 1 & 0\n",
    "\\end{pmatrix}\n",
    "\\left(\\frac{1}{\\sqrt{2}}\n",
    "\\begin{pmatrix}\n",
    "    1 & 1\\\\\n",
    "    1 & -1\n",
    "\\end{pmatrix} \\otimes\n",
    "\\begin{pmatrix}\n",
    "    1 & 0\\\\\n",
    "    0 & 1\n",
    "\\end{pmatrix}\\right)\\\\[1em]\n",
    "&= \\frac{1}{\\sqrt{2}}\n",
    "\\begin{pmatrix}\n",
    "    1 & 0 & 0 & 0\\\\\n",
    "    0 & 1 & 0 & 0\\\\\n",
    "    0 & 0 & 0 & 1\\\\\n",
    "    0 & 0 & 1 & 0\n",
    "\\end{pmatrix}\n",
    "\\begin{pmatrix}\n",
    "    1 & 0 & 1 & 0\\\\\n",
    "    0 & 1 & 0 & 1\\\\\n",
    "    1 & 0 & -1 & 0\\\\\n",
    "    0 & 1 & 0 & -1\n",
    "\\end{pmatrix}\\\\[1em]\n",
    "&= \\frac{1}{\\sqrt{2}}\n",
    "\\begin{pmatrix}\n",
    "    1 & 0 & 1 & 0\\\\\n",
    "    0 & 1 & 0 & 1\\\\\n",
    "    0 & 1 & 0 & -1\\\\\n",
    "    1 & 0 & -1 & 0\n",
    "\\end{pmatrix}\n",
    "\\end{align}\n",
    "$$\n",
    "\n",
    "A few interesting questions about this calculation:\n",
    "\n",
    "* Why do we need the identity matrix $I$ in the mix?\n",
    "  * The Hadamard gate $H$ acts on only the first qubit; however, because the $CNOT$ gate acts on both, the dimensionality of the computation changes to a 4x4 matrix. We use $I$ to \"apply\" the $H$ gate step to both qubits, such that the state of the second qubit isn't changed by that step in the operation. We achieve this using a Kronecker product $(\\otimes)$, and the resulting matrix is of dimension 4x4.\n",
    "* Why does $CNOT$ come before the other gates in this computation?\n",
    "  * Recall that the gates act on the qubits in sequence - first the $H$ gate acts on the first qubit, then the CNOT gate acts on the *result* of that step (on both qubits).\n",
    "\n",
    "We can compute this unitary matrix $U$ representation with the code below."
   ]
  },
  {
   "cell_type": "code",
   "execution_count": 5,
   "id": "38b441a1-ae08-4d08-86d1-3b95ebaa3caf",
   "metadata": {},
   "outputs": [
    {
     "data": {
      "text/plain": [
       "array([[ 0.70710678,  0.        ,  0.70710678,  0.        ],\n",
       "       [ 0.        ,  0.70710678,  0.        ,  0.70710678],\n",
       "       [ 0.        ,  0.70710678,  0.        , -0.70710678],\n",
       "       [ 0.70710678,  0.        , -0.70710678,  0.        ]])"
      ]
     },
     "execution_count": 5,
     "metadata": {},
     "output_type": "execute_result"
    }
   ],
   "source": [
    "u = cnot @ np.kron(h, identity)\n",
    "u"
   ]
  },
  {
   "cell_type": "markdown",
   "id": "e47b2265-edd4-4ee1-b504-7d25d713a4f7",
   "metadata": {},
   "source": [
    "We then apply this matrix representation to our combined state vector to see the resultant probabilities of the 4 different states after measurement:"
   ]
  },
  {
   "cell_type": "code",
   "execution_count": 6,
   "id": "e1d4f83f-d172-4b9a-b359-414619a3d3ef",
   "metadata": {},
   "outputs": [
    {
     "data": {
      "text/plain": [
       "array([[0.70710678],\n",
       "       [0.        ],\n",
       "       [0.        ],\n",
       "       [0.70710678]])"
      ]
     },
     "execution_count": 6,
     "metadata": {},
     "output_type": "execute_result"
    }
   ],
   "source": [
    "u @ combined_state_vector"
   ]
  },
  {
   "cell_type": "markdown",
   "id": "72101d69-48bd-473d-9c8b-8c74f872e31c",
   "metadata": {},
   "source": [
    "As a result, we see the resultant probability vector as\n",
    "\n",
    "$$\n",
    "\\begin{bmatrix}\n",
    "    \\frac{1}{\\sqrt{2}}\\\\\n",
    "    0\\\\\n",
    "    0\\\\\n",
    "    \\frac{1}{\\sqrt{2}}\n",
    "\\end{bmatrix}\n",
    "$$\n",
    "\n",
    "Recall that these probabilities correspond according to the following table:\n",
    "\n",
    "| Qubit state | Probability vector | Corresponding Probability |\n",
    "| ----------- | ------------------ | ------------------------- |\n",
    "| `\\|00>`     | Index 0 (topmost)  | $(\\frac{1}{\\sqrt{2}})^2 = \\frac{1}{2}$ |\n",
    "| `\\|01>`     | Index 1            | $0$                       |\n",
    "| `\\|10>`     | Index 2            | $0$                       |\n",
    "| `\\|11>`     | Index 3 (bottom)   | $(\\frac{1}{\\sqrt{2}})^2 = \\frac{1}{2}$ |\n",
    "\n",
    "Thus, it can be said that this circuit results in a 50% chance of measurement resulting in the `|00>` state, and a 50% chance of measurement resulting in the `|11>` state, thanks to the entangled pair created through the use of the $H$ and $CNOT$ gates in sequence."
   ]
  },
  {
   "cell_type": "markdown",
   "id": "7c285e40-73d0-4841-969b-d8c6226e578a",
   "metadata": {},
   "source": [
    "## Leveraging Qiskit to Simulate the Circuit\n",
    "\n",
    "Now that we've done the math, let's build the circuit and run it on a simulated quantum computer. We'll leverage the qiskit library to achieve this."
   ]
  },
  {
   "cell_type": "code",
   "execution_count": 7,
   "id": "fa369778-4e4f-4bcc-8f64-11d0ad73670f",
   "metadata": {},
   "outputs": [],
   "source": [
    "from qiskit import QuantumCircuit, Aer, transpile, quantum_info as qi\n",
    "from qiskit.visualization import plot_histogram"
   ]
  },
  {
   "cell_type": "markdown",
   "id": "bab1677a-28fe-4990-9183-f387c2fa92fd",
   "metadata": {},
   "source": [
    "First we'll build the circuit, then we'll execute it on a number of different backends provided by qiskit."
   ]
  },
  {
   "cell_type": "code",
   "execution_count": 8,
   "id": "3112b388-4e71-453a-8941-2e350795e0e1",
   "metadata": {},
   "outputs": [
    {
     "data": {
      "image/png": "[encoded data removed]",
      "text/plain": [
       "<Figure size 287.294x284.278 with 1 Axes>"
      ]
     },
     "execution_count": 8,
     "metadata": {},
     "output_type": "execute_result"
    }
   ],
   "source": [
    "circuit = QuantumCircuit(2,2)\n",
    "\n",
    "circuit.h(0)\n",
    "circuit.i(1)\n",
    "circuit.cx(0, 1)\n",
    "\n",
    "circuit.draw('mpl')"
   ]
  },
  {
   "cell_type": "markdown",
   "id": "231a96df-6496-4693-a4c7-b810a3ad4596",
   "metadata": {},
   "source": [
    "Note that, for the first example, we do not perform measurement on the qubits.\n",
    "\n",
    "Qiskit stores qubits in Little-Endian fashion; for our understanding, we'll use qiskit to compute the unitary matrix of our circuit using the `reverse_bits` method."
   ]
  },
  {
   "cell_type": "code",
   "execution_count": 9,
   "id": "4f0e89e2-70be-413a-bc6b-e8b39ebcfe7d",
   "metadata": {},
   "outputs": [
    {
     "data": {
      "text/plain": [
       "array([[ 0.70710678,  0.        ,  0.70710678,  0.        ],\n",
       "       [ 0.        ,  0.70710678,  0.        ,  0.70710678],\n",
       "       [ 0.        ,  0.70710678,  0.        , -0.70710678],\n",
       "       [ 0.70710678,  0.        , -0.70710678,  0.        ]])"
      ]
     },
     "execution_count": 9,
     "metadata": {},
     "output_type": "execute_result"
    }
   ],
   "source": [
    "np.real(qi.Operator(circuit.reverse_bits()))"
   ]
  },
  {
   "cell_type": "markdown",
   "id": "adadd000-43e1-47ee-bafd-a121d9bad0b9",
   "metadata": {},
   "source": [
    "Here we see that this output is the same as our manual computation of the unitary matrix $U$ above!\n",
    "\n",
    "### Simulator Backend\n",
    "\n",
    "Now we'll use a simulator provided by qiskit to see the corresponding probability vector in action. We'll need to add measuremnets to our circuit first:"
   ]
  },
  {
   "cell_type": "code",
   "execution_count": 10,
   "id": "92211cca-758d-4a7f-aa8b-c9a9c4d84752",
   "metadata": {},
   "outputs": [
    {
     "data": {
      "image/png": "[encoded data removed]",
      "text/plain": [
       "<Figure size 454.517x284.278 with 1 Axes>"
      ]
     },
     "execution_count": 10,
     "metadata": {},
     "output_type": "execute_result"
    }
   ],
   "source": [
    "circuit.measure([0, 1], [0, 1])\n",
    "circuit.draw('mpl')"
   ]
  },
  {
   "cell_type": "markdown",
   "id": "f0409a2a-12fc-47bb-8291-bb687882f83b",
   "metadata": {},
   "source": [
    "Now we'll run the circuit 1,024 times and see which states we get back."
   ]
  },
  {
   "cell_type": "code",
   "execution_count": 11,
   "id": "462b670b-13c0-4e1d-9446-1553e54a7ff3",
   "metadata": {},
   "outputs": [
    {
     "data": {
      "image/png": "[encoded data removed]",
      "text/plain": [
       "<Figure size 700x500 with 1 Axes>"
      ]
     },
     "execution_count": 11,
     "metadata": {},
     "output_type": "execute_result"
    }
   ],
   "source": [
    "sim_backend = Aer.get_backend('qasm_simulator')\n",
    "\n",
    "job = sim_backend.run(transpile(circuit, sim_backend), shots=1024)\n",
    "result = job.result()\n",
    "\n",
    "counts = result.get_counts()\n",
    "\n",
    "plot_histogram(counts)"
   ]
  },
  {
   "cell_type": "markdown",
   "id": "d9f07da3-90d2-4b15-a9df-c582875adc81",
   "metadata": {},
   "source": [
    "As expected from our earlier computations, we *only* get back the `|00>` and `|11>` states, each about 50% of the time!"
   ]
  }
 ],
 "metadata": {
  "kernelspec": {
   "display_name": "Python 3 (ipykernel)",
   "language": "python",
   "name": "python3"
  },
  "language_info": {
   "codemirror_mode": {
    "name": "ipython",
    "version": 3
   },
   "file_extension": ".py",
   "mimetype": "text/x-python",
   "name": "python",
   "nbconvert_exporter": "python",
   "pygments_lexer": "ipython3",
   "version": "3.10.11"
  }
 },
 "nbformat": 4,
 "nbformat_minor": 5
}
